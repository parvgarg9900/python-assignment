{
  "nbformat": 4,
  "nbformat_minor": 0,
  "metadata": {
    "colab": {
      "provenance": [],
      "authorship_tag": "ABX9TyOVbVwP37WeDsUphy8i6vYN",
      "include_colab_link": true
    },
    "kernelspec": {
      "name": "python3",
      "display_name": "Python 3"
    },
    "language_info": {
      "name": "python"
    }
  },
  "cells": [
    {
      "cell_type": "markdown",
      "metadata": {
        "id": "view-in-github",
        "colab_type": "text"
      },
      "source": [
        "<a href=\"https://colab.research.google.com/github/parvgarg9900/python-assignment/blob/main/Python_assignment.ipynb\" target=\"_parent\"><img src=\"https://colab.research.google.com/assets/colab-badge.svg\" alt=\"Open In Colab\"/></a>"
      ]
    },
    {
      "cell_type": "code",
      "execution_count": null,
      "metadata": {
        "colab": {
          "base_uri": "https://localhost:8080/"
        },
        "id": "zTI2YR02pUd3",
        "outputId": "da9d5bbc-11d2-4601-9a01-b63bc7d37c1b"
      },
      "outputs": [
        {
          "output_type": "stream",
          "name": "stdout",
          "text": [
            "L----> [11, 12, 13, 14]\n",
            "after inserting ---> [11, 12, 50, 60, 13, 14]\n"
          ]
        }
      ],
      "source": [
        "#insrting a number\n",
        "L=[11,12,13,14]\n",
        "print(\"L---->\",L)\n",
        "L1=list(L)\n",
        "L1.insert(2,50)\n",
        "L1.insert(3,60)\n",
        "print(\"after inserting --->\",L1)"
      ]
    },
    {
      "cell_type": "code",
      "source": [
        "#deleting a number\n",
        "l=[11,12,13,14]\n",
        "print(\"l--->\",l)\n",
        "del l[0]\n",
        "del l[1]\n",
        "print(\"after deleting:\",l)"
      ],
      "metadata": {
        "colab": {
          "base_uri": "https://localhost:8080/"
        },
        "id": "2Ts2VS1CqKhl",
        "outputId": "6c16acf3-fd12-4787-9a42-03f6047028ad"
      },
      "execution_count": null,
      "outputs": [
        {
          "output_type": "stream",
          "name": "stdout",
          "text": [
            "l---> [11, 12, 13, 14]\n",
            "after deleting: [12, 14]\n"
          ]
        }
      ]
    },
    {
      "cell_type": "code",
      "source": [
        "#inveritng the string\n",
        "l=[11,12,13,14]\n",
        "print(\"l--->\",l)\n",
        "print (\"l[::-1] --> \", l[::-1])"
      ],
      "metadata": {
        "id": "AyubFltUr7Tm",
        "colab": {
          "base_uri": "https://localhost:8080/"
        },
        "outputId": "d4540e9f-1976-4a08-bb7d-67c74abc5024"
      },
      "execution_count": null,
      "outputs": [
        {
          "output_type": "stream",
          "name": "stdout",
          "text": [
            "l---> [11, 12, 13, 14]\n",
            "l[::-1] -->  [14, 13, 12, 11]\n"
          ]
        }
      ]
    },
    {
      "cell_type": "code",
      "source": [
        "#sorting in ascending and descending order\n",
        "l = [11, 12, 13, 14]\n",
        "print(\"l--->\", l)\n",
        "l.sort()\n",
        "print(\"after sorting in ascending order:\", l)\n",
        "l.sort(reverse=True)\n",
        "print(\"after sorting in descending order:\", l)\n"
      ],
      "metadata": {
        "colab": {
          "base_uri": "https://localhost:8080/"
        },
        "id": "7UnZ0dohb3sQ",
        "outputId": "fe008b10-53d7-429d-a5ef-05303de3f4a9"
      },
      "execution_count": null,
      "outputs": [
        {
          "output_type": "stream",
          "name": "stdout",
          "text": [
            "l---> [11, 12, 13, 14]\n",
            "after sorting in ascending order: [11, 12, 13, 14]\n",
            "after sorting in descending order: [14, 13, 12, 11]\n"
          ]
        }
      ]
    },
    {
      "cell_type": "code",
      "source": [
        "#count of the number of elements in l\n",
        "l=[11,12,13,14]\n",
        "print(\"l--->\",l)\n",
        "print (\"Length --> : \", len(l))"
      ],
      "metadata": {
        "colab": {
          "base_uri": "https://localhost:8080/"
        },
        "id": "Cda00ocMLxmk",
        "outputId": "a87f0438-86fe-4eca-d91e-1166307a1717"
      },
      "execution_count": null,
      "outputs": [
        {
          "output_type": "stream",
          "name": "stdout",
          "text": [
            "l---> [11, 12, 13, 14]\n",
            "Length --> :  4\n"
          ]
        }
      ]
    },
    {
      "cell_type": "code",
      "source": [
        "#sum of all the numbers in l\n",
        "l=[11,12,13,14]\n",
        "print(\"l--->\",l)\n",
        "print (\"Sum     --> \", sum(l))"
      ],
      "metadata": {
        "colab": {
          "base_uri": "https://localhost:8080/"
        },
        "id": "tlw-AtFIPPxL",
        "outputId": "5849d138-8d4c-48ad-e192-da447c880ec8"
      },
      "execution_count": null,
      "outputs": [
        {
          "output_type": "stream",
          "name": "stdout",
          "text": [
            "l---> [11, 12, 13, 14]\n",
            "Sum     -->  50\n"
          ]
        }
      ]
    },
    {
      "cell_type": "code",
      "source": [
        "#sum of odd and even numbers in l\n",
        "l = [11, 12, 13, 14]\n",
        "print(\"l--->\", l)\n",
        "s = 0\n",
        "\n",
        "for number in l:\n",
        "    if number % 2 == 0:\n",
        "        s += number\n",
        "\n",
        "print(\"sum of even numbers -->\", s)\n",
        "\n",
        "s = 0\n",
        "\n",
        "for number in l:\n",
        "    if number % 2 != 0:\n",
        "        s += number\n",
        "\n",
        "print(\"sum of odd numbers -->\", s)"
      ],
      "metadata": {
        "colab": {
          "base_uri": "https://localhost:8080/"
        },
        "id": "awU2M-7Ta0QX",
        "outputId": "6e95a755-fcd9-4ee0-a647-508c110f55ae"
      },
      "execution_count": null,
      "outputs": [
        {
          "output_type": "stream",
          "name": "stdout",
          "text": [
            "l---> [11, 12, 13, 14]\n",
            "sum of even numbers --> 26\n",
            "sum of odd numbers --> 24\n"
          ]
        }
      ]
    },
    {
      "cell_type": "code",
      "source": [
        "#sum of prime numbers\n",
        "l = [11, 12, 13, 14]\n",
        "print(\"l--->\", l)\n",
        "s = 0\n",
        "\n",
        "for n in l:\n",
        "    f = 0\n",
        "    for i in range(2, n//2 + 1):\n",
        "        if n % i == 0:\n",
        "            f = 1\n",
        "            break\n",
        "    if f == 0:\n",
        "\n",
        "        print(f\"{n} is Prime\")\n",
        "        s += n\n",
        "\n",
        "    else:\n",
        "        print(f\"{n} is Not Prime\")"
      ],
      "metadata": {
        "colab": {
          "base_uri": "https://localhost:8080/"
        },
        "id": "L9kEV9LmeWKd",
        "outputId": "5035576f-f0e6-4803-9951-cbdadc77f4f8"
      },
      "execution_count": null,
      "outputs": [
        {
          "output_type": "stream",
          "name": "stdout",
          "text": [
            "l---> [11, 12, 13, 14]\n",
            "11 is Prime\n",
            "12 is Not Prime\n",
            "13 is Prime\n",
            "14 is Not Prime\n"
          ]
        }
      ]
    },
    {
      "cell_type": "code",
      "source": [
        " #inserting a new no. in d\n",
        "#import dictionary as d\n",
        "d={1:5.6,2:7.8,3:6.6,4:8.7,5:7.7}\n",
        "print(d)\n",
        "d[8]=(8.8)\n",
        "print(d)\n"
      ],
      "metadata": {
        "id": "YPRPC-ZeiURH",
        "colab": {
          "base_uri": "https://localhost:8080/"
        },
        "outputId": "f877f368-758e-4620-8bbb-b9765f4bd9bd"
      },
      "execution_count": null,
      "outputs": [
        {
          "output_type": "stream",
          "name": "stdout",
          "text": [
            "{1: 5.6, 2: 7.8, 3: 6.6, 4: 8.7, 5: 7.7}\n",
            "{1: 5.6, 2: 7.8, 3: 6.6, 4: 8.7, 5: 7.7, 8: 8.8}\n"
          ]
        }
      ]
    },
    {
      "cell_type": "code",
      "source": [
        "#deleting an element\n",
        "d={1:5.6,2:7.8,3:6.6,4:8.7,5:7.7}\n",
        "print(d)\n",
        "del d[2]\n",
        "print(d)"
      ],
      "metadata": {
        "colab": {
          "base_uri": "https://localhost:8080/"
        },
        "id": "nBqmLMf06mnC",
        "outputId": "7a584b1a-b45f-49d8-9f90-6d969a79c6ab"
      },
      "execution_count": null,
      "outputs": [
        {
          "output_type": "stream",
          "name": "stdout",
          "text": [
            "{1: 5.6, 2: 7.8, 3: 6.6, 4: 8.7, 5: 7.7}\n",
            "{1: 5.6, 3: 6.6, 4: 8.7, 5: 7.7}\n"
          ]
        }
      ]
    },
    {
      "cell_type": "code",
      "source": [
        "#checking an element\n",
        "d={1:5.6,2:7.8,3:6.6,4:8.7,5:7.7}\n",
        "print(d)\n",
        "if (6 in d)== True:\n",
        " print(\"it is there\")\n",
        "else:\n",
        "  print(\"not there\")"
      ],
      "metadata": {
        "colab": {
          "base_uri": "https://localhost:8080/"
        },
        "id": "bT_ZFdfX6_f4",
        "outputId": "db3401b2-6ce6-4460-f63a-ca1ad3736d20"
      },
      "execution_count": null,
      "outputs": [
        {
          "output_type": "stream",
          "name": "stdout",
          "text": [
            "{1: 5.6, 2: 7.8, 3: 6.6, 4: 8.7, 5: 7.7}\n",
            "not there\n"
          ]
        }
      ]
    },
    {
      "cell_type": "code",
      "source": [
        "#find lenght of dictionary\n",
        "d={1:5.6,2:7.8,3:6.6,4:8.7,5:7.7}\n",
        "print(d)\n",
        "print(len(d))"
      ],
      "metadata": {
        "colab": {
          "base_uri": "https://localhost:8080/"
        },
        "id": "HAbro3x-76-8",
        "outputId": "cf2ed8ee-011e-4465-9663-a13fc894298f"
      },
      "execution_count": null,
      "outputs": [
        {
          "output_type": "stream",
          "name": "stdout",
          "text": [
            "{1: 5.6, 2: 7.8, 3: 6.6, 4: 8.7, 5: 7.7}\n",
            "5\n"
          ]
        }
      ]
    },
    {
      "cell_type": "code",
      "source": [
        "#to add all values in d\n",
        "d={1:5.6,2:7.8,3:6.6,4:8.7,5:7.7}\n",
        "print(d)\n",
        "s=0\n",
        "for i in d:\n",
        "  s=s+d[i]\n",
        "\n",
        "print(\"sum=\",s)"
      ],
      "metadata": {
        "colab": {
          "base_uri": "https://localhost:8080/"
        },
        "id": "VWX6ofni8N3j",
        "outputId": "d2f180ff-2e2d-46f9-ded0-07c4868742ed"
      },
      "execution_count": null,
      "outputs": [
        {
          "output_type": "stream",
          "name": "stdout",
          "text": [
            "{1: 5.6, 2: 7.8, 3: 6.6, 4: 8.7, 5: 7.7}\n",
            "sum= 36.4\n"
          ]
        }
      ]
    },
    {
      "cell_type": "code",
      "source": [
        "#to update the values\n",
        "d={1:5.6,2:7.8,3:6.6,4:8.7,5:7.7}\n",
        "print(d)\n",
        "d[3]=7.1\n",
        "print(d)\n"
      ],
      "metadata": {
        "colab": {
          "base_uri": "https://localhost:8080/"
        },
        "id": "60M-Gefr8wDf",
        "outputId": "dd2e7909-9fc5-4570-823f-3937bbb0f0c2"
      },
      "execution_count": null,
      "outputs": [
        {
          "output_type": "stream",
          "name": "stdout",
          "text": [
            "{1: 5.6, 2: 7.8, 3: 6.6, 4: 8.7, 5: 7.7}\n",
            "{1: 5.6, 2: 7.8, 3: 7.1, 4: 8.7, 5: 7.7}\n"
          ]
        }
      ]
    },
    {
      "cell_type": "code",
      "source": [
        "#to clear the dictionary\n",
        "d={1:5.6,2:7.8,3:6.6,4:8.7,5:7.7}\n",
        "print(d)\n",
        "d.clear()\n",
        "print(d)"
      ],
      "metadata": {
        "colab": {
          "base_uri": "https://localhost:8080/"
        },
        "id": "xxw9awyy9MC3",
        "outputId": "718875a2-9010-4ddf-c1a9-561e386c3343"
      },
      "execution_count": null,
      "outputs": [
        {
          "output_type": "stream",
          "name": "stdout",
          "text": [
            "{1: 5.6, 2: 7.8, 3: 6.6, 4: 8.7, 5: 7.7}\n",
            "{}\n"
          ]
        }
      ]
    },
    {
      "cell_type": "code",
      "source": [],
      "metadata": {
        "id": "YeXkd0le9YAj"
      },
      "execution_count": null,
      "outputs": []
    }
  ]
}